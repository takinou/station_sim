{
 "cells": [
  {
   "cell_type": "code",
   "execution_count": 1,
   "metadata": {},
   "outputs": [
    {
     "name": "stdout",
     "output_type": "stream",
     "text": [
      "      year  station_no station_name  station_cd  station_g_cd  josha_num  \\\n",
      "0     1991           0          大曽根     1141105       1141105  4785428.0   \n",
      "1     1992           0          大曽根     1141105       1141105  4660204.0   \n",
      "2     1993           0          大曽根     1141105       1141105  4592223.0   \n",
      "3     1994           0          大曽根     1141105       1141105  4669642.0   \n",
      "4     1995           0          大曽根     1141105       1141105  4629653.0   \n",
      "5     1996           0          大曽根     1141105       1141105  4498914.0   \n",
      "6     1997           0          大曽根     1141105       1141105  4663364.0   \n",
      "7     1998           0          大曽根     1141105       1141105  4619636.0   \n",
      "8     1999           0          大曽根     1141105       1141105  4375248.0   \n",
      "9     2000           0          大曽根     1141105       1141105  3744964.0   \n",
      "10    2001           0          大曽根     1141105       1141105  4102394.0   \n",
      "11    2002           0          大曽根     1141105       1141105  4219703.0   \n",
      "12    2003           0          大曽根     1141105       1141105  4859742.0   \n",
      "13    2004           0          大曽根     1141105       1141105  5182003.0   \n",
      "14    2005           0          大曽根     1141105       1141105  5547024.0   \n",
      "15    2006           0          大曽根     1141105       1141105  5842120.0   \n",
      "16    2007           0          大曽根     1141105       1141105  6080285.0   \n",
      "17    2008           0          大曽根     1141105       1141105  6251626.0   \n",
      "18    2009           0          大曽根     1141105       1141105  6235527.0   \n",
      "19    2010           0          大曽根     1141105       1141105  6355136.0   \n",
      "20    2011           0          大曽根     1141105       1141105  6414885.0   \n",
      "21    2012           0          大曽根     1141105       1141105  6505159.0   \n",
      "22    2013           0          大曽根     1141105       1141105  6763018.0   \n",
      "23    2014           0          大曽根     1141105       1141105  6871223.0   \n",
      "24    2015           0          大曽根     1141105       1141105  7038731.0   \n",
      "25    1991           1          平安通     9951403       9951403  3320017.0   \n",
      "26    1992           1          平安通     9951403       9951403  3255846.0   \n",
      "27    1993           1          平安通     9951403       9951403  3217203.0   \n",
      "28    1994           1          平安通     9951403       9951403  3104134.0   \n",
      "29    1995           1          平安通     9951403       9951403  3076055.0   \n",
      "...    ...         ...          ...         ...           ...        ...   \n",
      "4002  2011        4036          上飯田     3001801       3001801   638983.0   \n",
      "4003  2012        4036          上飯田     3001801       3001801   633186.0   \n",
      "4004  2013        4036          上飯田     3001801       3001801   647445.0   \n",
      "4005  2014        4036          上飯田     3001801       3001801   655872.0   \n",
      "4006  2015        4036          上飯田     3001801       3001801   675505.0   \n",
      "4007  1991        4037           味鋺     3001802       3001802   409157.0   \n",
      "4008  1992        4037           味鋺     3001802       3001802   397405.0   \n",
      "4009  1993        4037           味鋺     3001802       3001802   369678.0   \n",
      "4010  1994        4037           味鋺     3001802       3001802   346379.0   \n",
      "4011  1995        4037           味鋺     3001802       3001802   322545.0   \n",
      "4012  1996        4037           味鋺     3001802       3001802   299422.0   \n",
      "4013  1997        4037           味鋺     3001802       3001802   285060.0   \n",
      "4014  1998        4037           味鋺     3001802       3001802   265123.0   \n",
      "4015  1999        4037           味鋺     3001802       3001802   262369.0   \n",
      "4016  2000        4037           味鋺     3001802       3001802   248644.0   \n",
      "4017  2001        4037           味鋺     3001802       3001802   229127.0   \n",
      "4018  2002        4037           味鋺     3001802       3001802   226365.0   \n",
      "4019  2003        4037           味鋺     3001802       3001802   435508.0   \n",
      "4020  2004        4037           味鋺     3001802       3001802   564849.0   \n",
      "4021  2005        4037           味鋺     3001802       3001802   628981.0   \n",
      "4022  2006        4037           味鋺     3001802       3001802   651016.0   \n",
      "4023  2007        4037           味鋺     3001802       3001802   672279.0   \n",
      "4024  2008        4037           味鋺     3001802       3001802   695038.0   \n",
      "4025  2009        4037           味鋺     3001802       3001802   686077.0   \n",
      "4026  2010        4037           味鋺     3001802       3001802   708468.0   \n",
      "4027  2011        4037           味鋺     3001802       3001802   709925.0   \n",
      "4028  2012        4037           味鋺     3001802       3001802   705755.0   \n",
      "4029  2013        4037           味鋺     3001802       3001802   734613.0   \n",
      "4030  2014        4037           味鋺     3001802       3001802   745350.0   \n",
      "4031  2015        4037           味鋺     3001802       3001802   778484.0   \n",
      "\n",
      "      meijo  meiko  kamiida  higashiyama  tsurumai  sakuradori  aonami  \\\n",
      "0       1.0    1.0      NaN          NaN       NaN         NaN     NaN   \n",
      "1       1.0    1.0      NaN          NaN       NaN         NaN     NaN   \n",
      "2       1.0    1.0      NaN          NaN       NaN         NaN     NaN   \n",
      "3       1.0    1.0      NaN          NaN       NaN         NaN     NaN   \n",
      "4       1.0    1.0      NaN          NaN       NaN         NaN     NaN   \n",
      "5       1.0    1.0      NaN          NaN       NaN         NaN     NaN   \n",
      "6       1.0    1.0      NaN          NaN       NaN         NaN     NaN   \n",
      "7       1.0    1.0      NaN          NaN       NaN         NaN     NaN   \n",
      "8       1.0    1.0      NaN          NaN       NaN         NaN     NaN   \n",
      "9       1.0    1.0      NaN          NaN       NaN         NaN     NaN   \n",
      "10      1.0    1.0      NaN          NaN       NaN         NaN     NaN   \n",
      "11      1.0    1.0      NaN          NaN       NaN         NaN     NaN   \n",
      "12      1.0    1.0      NaN          NaN       NaN         NaN     NaN   \n",
      "13      1.0    1.0      NaN          NaN       NaN         NaN     NaN   \n",
      "14      1.0    1.0      NaN          NaN       NaN         NaN     NaN   \n",
      "15      1.0    1.0      NaN          NaN       NaN         NaN     NaN   \n",
      "16      1.0    1.0      NaN          NaN       NaN         NaN     NaN   \n",
      "17      1.0    1.0      NaN          NaN       NaN         NaN     NaN   \n",
      "18      1.0    1.0      NaN          NaN       NaN         NaN     NaN   \n",
      "19      1.0    1.0      NaN          NaN       NaN         NaN     NaN   \n",
      "20      1.0    1.0      NaN          NaN       NaN         NaN     NaN   \n",
      "21      1.0    1.0      NaN          NaN       NaN         NaN     NaN   \n",
      "22      1.0    1.0      NaN          NaN       NaN         NaN     NaN   \n",
      "23      1.0    1.0      NaN          NaN       NaN         NaN     NaN   \n",
      "24      1.0    1.0      NaN          NaN       NaN         NaN     NaN   \n",
      "25      1.0    1.0      NaN          NaN       NaN         NaN     NaN   \n",
      "26      1.0    1.0      NaN          NaN       NaN         NaN     NaN   \n",
      "27      1.0    1.0      NaN          NaN       NaN         NaN     NaN   \n",
      "28      1.0    1.0      NaN          NaN       NaN         NaN     NaN   \n",
      "29      1.0    1.0      NaN          NaN       NaN         NaN     NaN   \n",
      "...     ...    ...      ...          ...       ...         ...     ...   \n",
      "4002    NaN    NaN      NaN          NaN       NaN         NaN     NaN   \n",
      "4003    NaN    NaN      NaN          NaN       NaN         NaN     NaN   \n",
      "4004    NaN    NaN      NaN          NaN       NaN         NaN     NaN   \n",
      "4005    NaN    NaN      NaN          NaN       NaN         NaN     NaN   \n",
      "4006    NaN    NaN      NaN          NaN       NaN         NaN     NaN   \n",
      "4007    NaN    NaN      NaN          NaN       NaN         NaN     NaN   \n",
      "4008    NaN    NaN      NaN          NaN       NaN         NaN     NaN   \n",
      "4009    NaN    NaN      NaN          NaN       NaN         NaN     NaN   \n",
      "4010    NaN    NaN      NaN          NaN       NaN         NaN     NaN   \n",
      "4011    NaN    NaN      NaN          NaN       NaN         NaN     NaN   \n",
      "4012    NaN    NaN      NaN          NaN       NaN         NaN     NaN   \n",
      "4013    NaN    NaN      NaN          NaN       NaN         NaN     NaN   \n",
      "4014    NaN    NaN      NaN          NaN       NaN         NaN     NaN   \n",
      "4015    NaN    NaN      NaN          NaN       NaN         NaN     NaN   \n",
      "4016    NaN    NaN      NaN          NaN       NaN         NaN     NaN   \n",
      "4017    NaN    NaN      NaN          NaN       NaN         NaN     NaN   \n",
      "4018    NaN    NaN      NaN          NaN       NaN         NaN     NaN   \n",
      "4019    NaN    NaN      NaN          NaN       NaN         NaN     NaN   \n",
      "4020    NaN    NaN      NaN          NaN       NaN         NaN     NaN   \n",
      "4021    NaN    NaN      NaN          NaN       NaN         NaN     NaN   \n",
      "4022    NaN    NaN      NaN          NaN       NaN         NaN     NaN   \n",
      "4023    NaN    NaN      NaN          NaN       NaN         NaN     NaN   \n",
      "4024    NaN    NaN      NaN          NaN       NaN         NaN     NaN   \n",
      "4025    NaN    NaN      NaN          NaN       NaN         NaN     NaN   \n",
      "4026    NaN    NaN      NaN          NaN       NaN         NaN     NaN   \n",
      "4027    NaN    NaN      NaN          NaN       NaN         NaN     NaN   \n",
      "4028    NaN    NaN      NaN          NaN       NaN         NaN     NaN   \n",
      "4029    NaN    NaN      NaN          NaN       NaN         NaN     NaN   \n",
      "4030    NaN    NaN      NaN          NaN       NaN         NaN     NaN   \n",
      "4031    NaN    NaN      NaN          NaN       NaN         NaN     NaN   \n",
      "\n",
      "      shinkansen  tokaido  chuo  kansai  meitetsu  kintetsu  lines  \n",
      "0            NaN      NaN   NaN     NaN       NaN       NaN      2  \n",
      "1            NaN      NaN   NaN     NaN       NaN       NaN      2  \n",
      "2            NaN      NaN   NaN     NaN       NaN       NaN      2  \n",
      "3            NaN      NaN   NaN     NaN       NaN       NaN      2  \n",
      "4            NaN      NaN   NaN     NaN       NaN       NaN      2  \n",
      "5            NaN      NaN   NaN     NaN       NaN       NaN      2  \n",
      "6            NaN      NaN   NaN     NaN       NaN       NaN      2  \n",
      "7            NaN      NaN   NaN     NaN       NaN       NaN      2  \n",
      "8            NaN      NaN   NaN     NaN       NaN       NaN      2  \n",
      "9            NaN      NaN   NaN     NaN       NaN       NaN      2  \n",
      "10           NaN      NaN   NaN     NaN       NaN       NaN      2  \n",
      "11           NaN      NaN   NaN     NaN       NaN       NaN      2  \n",
      "12           NaN      NaN   NaN     NaN       NaN       NaN      2  \n",
      "13           NaN      NaN   NaN     NaN       NaN       NaN      2  \n",
      "14           NaN      NaN   NaN     NaN       NaN       NaN      2  \n",
      "15           NaN      NaN   NaN     NaN       NaN       NaN      2  \n",
      "16           NaN      NaN   NaN     NaN       NaN       NaN      2  \n",
      "17           NaN      NaN   NaN     NaN       NaN       NaN      2  \n",
      "18           NaN      NaN   NaN     NaN       NaN       NaN      2  \n",
      "19           NaN      NaN   NaN     NaN       NaN       NaN      2  \n",
      "20           NaN      NaN   NaN     NaN       NaN       NaN      2  \n",
      "21           NaN      NaN   NaN     NaN       NaN       NaN      2  \n",
      "22           NaN      NaN   NaN     NaN       NaN       NaN      2  \n",
      "23           NaN      NaN   NaN     NaN       NaN       NaN      2  \n",
      "24           NaN      NaN   NaN     NaN       NaN       NaN      2  \n",
      "25           NaN      NaN   NaN     NaN       NaN       NaN      2  \n",
      "26           NaN      NaN   NaN     NaN       NaN       NaN      2  \n",
      "27           NaN      NaN   NaN     NaN       NaN       NaN      2  \n",
      "28           NaN      NaN   NaN     NaN       NaN       NaN      2  \n",
      "29           NaN      NaN   NaN     NaN       NaN       NaN      2  \n",
      "...          ...      ...   ...     ...       ...       ...    ...  \n",
      "4002         NaN      NaN   NaN     NaN       1.0       NaN      1  \n",
      "4003         NaN      NaN   NaN     NaN       1.0       NaN      1  \n",
      "4004         NaN      NaN   NaN     NaN       1.0       NaN      1  \n",
      "4005         NaN      NaN   NaN     NaN       1.0       NaN      1  \n",
      "4006         NaN      NaN   NaN     NaN       1.0       NaN      1  \n",
      "4007         NaN      NaN   NaN     NaN       1.0       NaN      1  \n",
      "4008         NaN      NaN   NaN     NaN       1.0       NaN      1  \n",
      "4009         NaN      NaN   NaN     NaN       1.0       NaN      1  \n",
      "4010         NaN      NaN   NaN     NaN       1.0       NaN      1  \n",
      "4011         NaN      NaN   NaN     NaN       1.0       NaN      1  \n",
      "4012         NaN      NaN   NaN     NaN       1.0       NaN      1  \n",
      "4013         NaN      NaN   NaN     NaN       1.0       NaN      1  \n",
      "4014         NaN      NaN   NaN     NaN       1.0       NaN      1  \n",
      "4015         NaN      NaN   NaN     NaN       1.0       NaN      1  \n",
      "4016         NaN      NaN   NaN     NaN       1.0       NaN      1  \n",
      "4017         NaN      NaN   NaN     NaN       1.0       NaN      1  \n",
      "4018         NaN      NaN   NaN     NaN       1.0       NaN      1  \n",
      "4019         NaN      NaN   NaN     NaN       1.0       NaN      1  \n",
      "4020         NaN      NaN   NaN     NaN       1.0       NaN      1  \n",
      "4021         NaN      NaN   NaN     NaN       1.0       NaN      1  \n",
      "4022         NaN      NaN   NaN     NaN       1.0       NaN      1  \n",
      "4023         NaN      NaN   NaN     NaN       1.0       NaN      1  \n",
      "4024         NaN      NaN   NaN     NaN       1.0       NaN      1  \n",
      "4025         NaN      NaN   NaN     NaN       1.0       NaN      1  \n",
      "4026         NaN      NaN   NaN     NaN       1.0       NaN      1  \n",
      "4027         NaN      NaN   NaN     NaN       1.0       NaN      1  \n",
      "4028         NaN      NaN   NaN     NaN       1.0       NaN      1  \n",
      "4029         NaN      NaN   NaN     NaN       1.0       NaN      1  \n",
      "4030         NaN      NaN   NaN     NaN       1.0       NaN      1  \n",
      "4031         NaN      NaN   NaN     NaN       1.0       NaN      1  \n",
      "\n",
      "[4032 rows x 20 columns]\n"
     ]
    }
   ],
   "source": [
    "import numpy as np\n",
    "import pandas as pd\n",
    "import matplotlib.pyplot as plt\n",
    "\n",
    "Nagoya_Station_data = pd.read_excel(\"./datas/Nagoya_Station_data(josha).xlsx\")\n",
    "\n",
    "print(Nagoya_Station_data)"
   ]
  },
  {
   "cell_type": "code",
   "execution_count": null,
   "metadata": {},
   "outputs": [],
   "source": []
  },
  {
   "cell_type": "code",
   "execution_count": 2,
   "metadata": {},
   "outputs": [],
   "source": [
    "#名古屋駅、金山、栄が外れ値すぎるので取り除く\n",
    "#Nagoya_Station_data=Nagoya_Station_data[Nagoya_Station_data['station_name']!=\"名古屋\"]\n",
    "#Nagoya_Station_data=Nagoya_Station_data[Nagoya_Station_data['station_name']!=\"金山\"]\n",
    "#Nagoya_Station_data=Nagoya_Station_data[Nagoya_Station_data['station_name']!=\"栄\"]\n",
    "\n",
    "#print(Nagoya_Station_data)"
   ]
  },
  {
   "cell_type": "code",
   "execution_count": 3,
   "metadata": {},
   "outputs": [
    {
     "name": "stdout",
     "output_type": "stream",
     "text": [
      "      year  station_no station_name  station_cd  station_g_cd  josha_num  \\\n",
      "0     1991           0          大曽根     1141105       1141105  4785428.0   \n",
      "1     1992           0          大曽根     1141105       1141105  4660204.0   \n",
      "2     1993           0          大曽根     1141105       1141105  4592223.0   \n",
      "3     1994           0          大曽根     1141105       1141105  4669642.0   \n",
      "4     1995           0          大曽根     1141105       1141105  4629653.0   \n",
      "5     1996           0          大曽根     1141105       1141105  4498914.0   \n",
      "6     1997           0          大曽根     1141105       1141105  4663364.0   \n",
      "7     1998           0          大曽根     1141105       1141105  4619636.0   \n",
      "8     1999           0          大曽根     1141105       1141105  4375248.0   \n",
      "9     2000           0          大曽根     1141105       1141105  3744964.0   \n",
      "10    2001           0          大曽根     1141105       1141105  4102394.0   \n",
      "11    2002           0          大曽根     1141105       1141105  4219703.0   \n",
      "12    2003           0          大曽根     1141105       1141105  4859742.0   \n",
      "13    2004           0          大曽根     1141105       1141105  5182003.0   \n",
      "14    2005           0          大曽根     1141105       1141105  5547024.0   \n",
      "15    2006           0          大曽根     1141105       1141105  5842120.0   \n",
      "16    2007           0          大曽根     1141105       1141105  6080285.0   \n",
      "17    2008           0          大曽根     1141105       1141105  6251626.0   \n",
      "18    2009           0          大曽根     1141105       1141105  6235527.0   \n",
      "19    2010           0          大曽根     1141105       1141105  6355136.0   \n",
      "20    2011           0          大曽根     1141105       1141105  6414885.0   \n",
      "21    2012           0          大曽根     1141105       1141105  6505159.0   \n",
      "22    2013           0          大曽根     1141105       1141105  6763018.0   \n",
      "23    2014           0          大曽根     1141105       1141105  6871223.0   \n",
      "24    2015           0          大曽根     1141105       1141105  7038731.0   \n",
      "25    1991           1          平安通     9951403       9951403  3320017.0   \n",
      "26    1992           1          平安通     9951403       9951403  3255846.0   \n",
      "27    1993           1          平安通     9951403       9951403  3217203.0   \n",
      "28    1994           1          平安通     9951403       9951403  3104134.0   \n",
      "29    1995           1          平安通     9951403       9951403  3076055.0   \n",
      "...    ...         ...          ...         ...           ...        ...   \n",
      "4002  2011        4036          上飯田     3001801       3001801   638983.0   \n",
      "4003  2012        4036          上飯田     3001801       3001801   633186.0   \n",
      "4004  2013        4036          上飯田     3001801       3001801   647445.0   \n",
      "4005  2014        4036          上飯田     3001801       3001801   655872.0   \n",
      "4006  2015        4036          上飯田     3001801       3001801   675505.0   \n",
      "4007  1991        4037           味鋺     3001802       3001802   409157.0   \n",
      "4008  1992        4037           味鋺     3001802       3001802   397405.0   \n",
      "4009  1993        4037           味鋺     3001802       3001802   369678.0   \n",
      "4010  1994        4037           味鋺     3001802       3001802   346379.0   \n",
      "4011  1995        4037           味鋺     3001802       3001802   322545.0   \n",
      "4012  1996        4037           味鋺     3001802       3001802   299422.0   \n",
      "4013  1997        4037           味鋺     3001802       3001802   285060.0   \n",
      "4014  1998        4037           味鋺     3001802       3001802   265123.0   \n",
      "4015  1999        4037           味鋺     3001802       3001802   262369.0   \n",
      "4016  2000        4037           味鋺     3001802       3001802   248644.0   \n",
      "4017  2001        4037           味鋺     3001802       3001802   229127.0   \n",
      "4018  2002        4037           味鋺     3001802       3001802   226365.0   \n",
      "4019  2003        4037           味鋺     3001802       3001802   435508.0   \n",
      "4020  2004        4037           味鋺     3001802       3001802   564849.0   \n",
      "4021  2005        4037           味鋺     3001802       3001802   628981.0   \n",
      "4022  2006        4037           味鋺     3001802       3001802   651016.0   \n",
      "4023  2007        4037           味鋺     3001802       3001802   672279.0   \n",
      "4024  2008        4037           味鋺     3001802       3001802   695038.0   \n",
      "4025  2009        4037           味鋺     3001802       3001802   686077.0   \n",
      "4026  2010        4037           味鋺     3001802       3001802   708468.0   \n",
      "4027  2011        4037           味鋺     3001802       3001802   709925.0   \n",
      "4028  2012        4037           味鋺     3001802       3001802   705755.0   \n",
      "4029  2013        4037           味鋺     3001802       3001802   734613.0   \n",
      "4030  2014        4037           味鋺     3001802       3001802   745350.0   \n",
      "4031  2015        4037           味鋺     3001802       3001802   778484.0   \n",
      "\n",
      "      meijo  meiko  kamiida  higashiyama  tsurumai  sakuradori  aonami  \\\n",
      "0       1.0    1.0      NaN          NaN       NaN         NaN     NaN   \n",
      "1       1.0    1.0      NaN          NaN       NaN         NaN     NaN   \n",
      "2       1.0    1.0      NaN          NaN       NaN         NaN     NaN   \n",
      "3       1.0    1.0      NaN          NaN       NaN         NaN     NaN   \n",
      "4       1.0    1.0      NaN          NaN       NaN         NaN     NaN   \n",
      "5       1.0    1.0      NaN          NaN       NaN         NaN     NaN   \n",
      "6       1.0    1.0      NaN          NaN       NaN         NaN     NaN   \n",
      "7       1.0    1.0      NaN          NaN       NaN         NaN     NaN   \n",
      "8       1.0    1.0      NaN          NaN       NaN         NaN     NaN   \n",
      "9       1.0    1.0      NaN          NaN       NaN         NaN     NaN   \n",
      "10      1.0    1.0      NaN          NaN       NaN         NaN     NaN   \n",
      "11      1.0    1.0      NaN          NaN       NaN         NaN     NaN   \n",
      "12      1.0    1.0      NaN          NaN       NaN         NaN     NaN   \n",
      "13      1.0    1.0      NaN          NaN       NaN         NaN     NaN   \n",
      "14      1.0    1.0      NaN          NaN       NaN         NaN     NaN   \n",
      "15      1.0    1.0      NaN          NaN       NaN         NaN     NaN   \n",
      "16      1.0    1.0      NaN          NaN       NaN         NaN     NaN   \n",
      "17      1.0    1.0      NaN          NaN       NaN         NaN     NaN   \n",
      "18      1.0    1.0      NaN          NaN       NaN         NaN     NaN   \n",
      "19      1.0    1.0      NaN          NaN       NaN         NaN     NaN   \n",
      "20      1.0    1.0      NaN          NaN       NaN         NaN     NaN   \n",
      "21      1.0    1.0      NaN          NaN       NaN         NaN     NaN   \n",
      "22      1.0    1.0      NaN          NaN       NaN         NaN     NaN   \n",
      "23      1.0    1.0      NaN          NaN       NaN         NaN     NaN   \n",
      "24      1.0    1.0      NaN          NaN       NaN         NaN     NaN   \n",
      "25      1.0    1.0      NaN          NaN       NaN         NaN     NaN   \n",
      "26      1.0    1.0      NaN          NaN       NaN         NaN     NaN   \n",
      "27      1.0    1.0      NaN          NaN       NaN         NaN     NaN   \n",
      "28      1.0    1.0      NaN          NaN       NaN         NaN     NaN   \n",
      "29      1.0    1.0      NaN          NaN       NaN         NaN     NaN   \n",
      "...     ...    ...      ...          ...       ...         ...     ...   \n",
      "4002    NaN    NaN      NaN          NaN       NaN         NaN     NaN   \n",
      "4003    NaN    NaN      NaN          NaN       NaN         NaN     NaN   \n",
      "4004    NaN    NaN      NaN          NaN       NaN         NaN     NaN   \n",
      "4005    NaN    NaN      NaN          NaN       NaN         NaN     NaN   \n",
      "4006    NaN    NaN      NaN          NaN       NaN         NaN     NaN   \n",
      "4007    NaN    NaN      NaN          NaN       NaN         NaN     NaN   \n",
      "4008    NaN    NaN      NaN          NaN       NaN         NaN     NaN   \n",
      "4009    NaN    NaN      NaN          NaN       NaN         NaN     NaN   \n",
      "4010    NaN    NaN      NaN          NaN       NaN         NaN     NaN   \n",
      "4011    NaN    NaN      NaN          NaN       NaN         NaN     NaN   \n",
      "4012    NaN    NaN      NaN          NaN       NaN         NaN     NaN   \n",
      "4013    NaN    NaN      NaN          NaN       NaN         NaN     NaN   \n",
      "4014    NaN    NaN      NaN          NaN       NaN         NaN     NaN   \n",
      "4015    NaN    NaN      NaN          NaN       NaN         NaN     NaN   \n",
      "4016    NaN    NaN      NaN          NaN       NaN         NaN     NaN   \n",
      "4017    NaN    NaN      NaN          NaN       NaN         NaN     NaN   \n",
      "4018    NaN    NaN      NaN          NaN       NaN         NaN     NaN   \n",
      "4019    NaN    NaN      NaN          NaN       NaN         NaN     NaN   \n",
      "4020    NaN    NaN      NaN          NaN       NaN         NaN     NaN   \n",
      "4021    NaN    NaN      NaN          NaN       NaN         NaN     NaN   \n",
      "4022    NaN    NaN      NaN          NaN       NaN         NaN     NaN   \n",
      "4023    NaN    NaN      NaN          NaN       NaN         NaN     NaN   \n",
      "4024    NaN    NaN      NaN          NaN       NaN         NaN     NaN   \n",
      "4025    NaN    NaN      NaN          NaN       NaN         NaN     NaN   \n",
      "4026    NaN    NaN      NaN          NaN       NaN         NaN     NaN   \n",
      "4027    NaN    NaN      NaN          NaN       NaN         NaN     NaN   \n",
      "4028    NaN    NaN      NaN          NaN       NaN         NaN     NaN   \n",
      "4029    NaN    NaN      NaN          NaN       NaN         NaN     NaN   \n",
      "4030    NaN    NaN      NaN          NaN       NaN         NaN     NaN   \n",
      "4031    NaN    NaN      NaN          NaN       NaN         NaN     NaN   \n",
      "\n",
      "      shinkansen  tokaido  chuo  kansai  meitetsu  kintetsu  lines  \n",
      "0            NaN      NaN   NaN     NaN       NaN       NaN      2  \n",
      "1            NaN      NaN   NaN     NaN       NaN       NaN      2  \n",
      "2            NaN      NaN   NaN     NaN       NaN       NaN      2  \n",
      "3            NaN      NaN   NaN     NaN       NaN       NaN      2  \n",
      "4            NaN      NaN   NaN     NaN       NaN       NaN      2  \n",
      "5            NaN      NaN   NaN     NaN       NaN       NaN      2  \n",
      "6            NaN      NaN   NaN     NaN       NaN       NaN      2  \n",
      "7            NaN      NaN   NaN     NaN       NaN       NaN      2  \n",
      "8            NaN      NaN   NaN     NaN       NaN       NaN      2  \n",
      "9            NaN      NaN   NaN     NaN       NaN       NaN      2  \n",
      "10           NaN      NaN   NaN     NaN       NaN       NaN      2  \n",
      "11           NaN      NaN   NaN     NaN       NaN       NaN      2  \n",
      "12           NaN      NaN   NaN     NaN       NaN       NaN      2  \n",
      "13           NaN      NaN   NaN     NaN       NaN       NaN      2  \n",
      "14           NaN      NaN   NaN     NaN       NaN       NaN      2  \n",
      "15           NaN      NaN   NaN     NaN       NaN       NaN      2  \n",
      "16           NaN      NaN   NaN     NaN       NaN       NaN      2  \n",
      "17           NaN      NaN   NaN     NaN       NaN       NaN      2  \n",
      "18           NaN      NaN   NaN     NaN       NaN       NaN      2  \n",
      "19           NaN      NaN   NaN     NaN       NaN       NaN      2  \n",
      "20           NaN      NaN   NaN     NaN       NaN       NaN      2  \n",
      "21           NaN      NaN   NaN     NaN       NaN       NaN      2  \n",
      "22           NaN      NaN   NaN     NaN       NaN       NaN      2  \n",
      "23           NaN      NaN   NaN     NaN       NaN       NaN      2  \n",
      "24           NaN      NaN   NaN     NaN       NaN       NaN      2  \n",
      "25           NaN      NaN   NaN     NaN       NaN       NaN      2  \n",
      "26           NaN      NaN   NaN     NaN       NaN       NaN      2  \n",
      "27           NaN      NaN   NaN     NaN       NaN       NaN      2  \n",
      "28           NaN      NaN   NaN     NaN       NaN       NaN      2  \n",
      "29           NaN      NaN   NaN     NaN       NaN       NaN      2  \n",
      "...          ...      ...   ...     ...       ...       ...    ...  \n",
      "4002         NaN      NaN   NaN     NaN       1.0       NaN      1  \n",
      "4003         NaN      NaN   NaN     NaN       1.0       NaN      1  \n",
      "4004         NaN      NaN   NaN     NaN       1.0       NaN      1  \n",
      "4005         NaN      NaN   NaN     NaN       1.0       NaN      1  \n",
      "4006         NaN      NaN   NaN     NaN       1.0       NaN      1  \n",
      "4007         NaN      NaN   NaN     NaN       1.0       NaN      1  \n",
      "4008         NaN      NaN   NaN     NaN       1.0       NaN      1  \n",
      "4009         NaN      NaN   NaN     NaN       1.0       NaN      1  \n",
      "4010         NaN      NaN   NaN     NaN       1.0       NaN      1  \n",
      "4011         NaN      NaN   NaN     NaN       1.0       NaN      1  \n",
      "4012         NaN      NaN   NaN     NaN       1.0       NaN      1  \n",
      "4013         NaN      NaN   NaN     NaN       1.0       NaN      1  \n",
      "4014         NaN      NaN   NaN     NaN       1.0       NaN      1  \n",
      "4015         NaN      NaN   NaN     NaN       1.0       NaN      1  \n",
      "4016         NaN      NaN   NaN     NaN       1.0       NaN      1  \n",
      "4017         NaN      NaN   NaN     NaN       1.0       NaN      1  \n",
      "4018         NaN      NaN   NaN     NaN       1.0       NaN      1  \n",
      "4019         NaN      NaN   NaN     NaN       1.0       NaN      1  \n",
      "4020         NaN      NaN   NaN     NaN       1.0       NaN      1  \n",
      "4021         NaN      NaN   NaN     NaN       1.0       NaN      1  \n",
      "4022         NaN      NaN   NaN     NaN       1.0       NaN      1  \n",
      "4023         NaN      NaN   NaN     NaN       1.0       NaN      1  \n",
      "4024         NaN      NaN   NaN     NaN       1.0       NaN      1  \n",
      "4025         NaN      NaN   NaN     NaN       1.0       NaN      1  \n",
      "4026         NaN      NaN   NaN     NaN       1.0       NaN      1  \n",
      "4027         NaN      NaN   NaN     NaN       1.0       NaN      1  \n",
      "4028         NaN      NaN   NaN     NaN       1.0       NaN      1  \n",
      "4029         NaN      NaN   NaN     NaN       1.0       NaN      1  \n",
      "4030         NaN      NaN   NaN     NaN       1.0       NaN      1  \n",
      "4031         NaN      NaN   NaN     NaN       1.0       NaN      1  \n",
      "\n",
      "[3769 rows x 20 columns]\n"
     ]
    }
   ],
   "source": [
    "#利用線数が0 つまりまだ駅ができていない場所を取り除く\n",
    "Nagoya_Station_data=Nagoya_Station_data[Nagoya_Station_data['lines']!=0]\n",
    "\n",
    "print(Nagoya_Station_data)"
   ]
  },
  {
   "cell_type": "code",
   "execution_count": 4,
   "metadata": {},
   "outputs": [
    {
     "name": "stdout",
     "output_type": "stream",
     "text": [
      "                   josha_num  lines\n",
      "station_name year                  \n",
      "いりなか         1991  3632472.0      1\n",
      "             1992  3549946.0      1\n",
      "             1993  3572420.0      1\n",
      "             1994  3484716.0      1\n",
      "             1995  3517137.0      1\n",
      "             1996  3564984.0      1\n",
      "             1997  3667531.0      1\n",
      "             1998  3822759.0      1\n",
      "             1999  3774603.0      1\n",
      "             2000  3872345.0      1\n",
      "             2001  5957099.0      1\n",
      "             2002  4311543.0      1\n",
      "             2003  3949068.0      1\n",
      "             2004  2831220.0      1\n",
      "             2005  2664289.0      1\n",
      "             2006  2709581.0      1\n",
      "             2007  2701426.0      1\n",
      "             2008  2759197.0      1\n",
      "             2009  2723242.0      1\n",
      "             2010  2882630.0      1\n",
      "             2011  2489562.0      1\n",
      "             2012  2521816.0      1\n",
      "             2013  2614891.0      1\n",
      "             2014  2589814.0      1\n",
      "             2015  2613444.0      1\n",
      "ささしまライブ      2004   119622.0      1\n",
      "             2005   882339.0      1\n",
      "             2006   194865.0      1\n",
      "             2007   195160.0      1\n",
      "             2008   170932.0      1\n",
      "...                      ...    ...\n",
      "黄金           2011   374710.0      1\n",
      "             2012   360689.0      1\n",
      "             2013   364812.0      1\n",
      "             2014   352614.0      1\n",
      "             2015   392823.0      1\n",
      "黒川           1991  4568916.0      2\n",
      "             1992  4482097.0      2\n",
      "             1993  4633788.0      2\n",
      "             1994  4600094.0      2\n",
      "             1995  4588017.0      2\n",
      "             1996  4625114.0      2\n",
      "             1997  4466803.0      2\n",
      "             1998  4394033.0      2\n",
      "             1999  4354582.0      2\n",
      "             2000  4891146.0      2\n",
      "             2001  5081568.0      2\n",
      "             2002  4726079.0      2\n",
      "             2003  5114826.0      2\n",
      "             2004  4935770.0      2\n",
      "             2005  5059561.0      2\n",
      "             2006  5107456.0      2\n",
      "             2007  4863088.0      2\n",
      "             2008  4844763.0      2\n",
      "             2009  4774441.0      2\n",
      "             2010  4699496.0      2\n",
      "             2011  4723563.0      2\n",
      "             2012  4845255.0      2\n",
      "             2013  4943361.0      2\n",
      "             2014  4939585.0      2\n",
      "             2015  5069276.0      2\n",
      "\n",
      "[3160 rows x 2 columns]\n"
     ]
    }
   ],
   "source": [
    "#jrなどの利用者数を合算する為にgroupbyする\n",
    "datas = Nagoya_Station_data.groupby(['station_name','year'])[['josha_num','lines']].sum()\n",
    "\n",
    "print(datas)"
   ]
  },
  {
   "cell_type": "code",
   "execution_count": null,
   "metadata": {},
   "outputs": [],
   "source": []
  },
  {
   "cell_type": "code",
   "execution_count": null,
   "metadata": {},
   "outputs": [],
   "source": []
  },
  {
   "cell_type": "code",
   "execution_count": 5,
   "metadata": {
    "scrolled": true
   },
   "outputs": [],
   "source": [
    "#非0のデータを探す\n",
    "#datas['josha_num'].nonzero()"
   ]
  },
  {
   "cell_type": "code",
   "execution_count": 6,
   "metadata": {},
   "outputs": [],
   "source": [
    "\n",
    "#datas['josha_num'].nonzero()[0]"
   ]
  },
  {
   "cell_type": "code",
   "execution_count": 7,
   "metadata": {},
   "outputs": [],
   "source": [
    "#非0のデータとして、nz_datasを定義\n",
    "#nz_datas=datas[['josha_num','lines']].iloc[datas['josha_num'].nonzero()[0]]\n",
    "#nz_datas"
   ]
  },
  {
   "cell_type": "code",
   "execution_count": 8,
   "metadata": {},
   "outputs": [
    {
     "data": {
      "text/plain": [
       "<matplotlib.axes._subplots.AxesSubplot at 0x1225cd278>"
      ]
     },
     "execution_count": 8,
     "metadata": {},
     "output_type": "execute_result"
    },
    {
     "data": {
      "image/png": "[encoded data removed]",
      "text/plain": [
       "<Figure size 432x288 with 1 Axes>"
      ]
     },
     "metadata": {
      "needs_background": "light"
     },
     "output_type": "display_data"
    }
   ],
   "source": [
    "#横軸 駅数、縦軸　年間乗車数\n",
    "datas.plot(x='lines',y='josha_num', kind='scatter')"
   ]
  },
  {
   "cell_type": "code",
   "execution_count": null,
   "metadata": {},
   "outputs": [],
   "source": []
  },
  {
   "cell_type": "code",
   "execution_count": 9,
   "metadata": {},
   "outputs": [
    {
     "data": {
      "text/html": [
       "<div>\n",
       "<style scoped>\n",
       "    .dataframe tbody tr th:only-of-type {\n",
       "        vertical-align: middle;\n",
       "    }\n",
       "\n",
       "    .dataframe tbody tr th {\n",
       "        vertical-align: top;\n",
       "    }\n",
       "\n",
       "    .dataframe thead th {\n",
       "        text-align: right;\n",
       "    }\n",
       "</style>\n",
       "<table border=\"1\" class=\"dataframe\">\n",
       "  <thead>\n",
       "    <tr style=\"text-align: right;\">\n",
       "      <th></th>\n",
       "      <th>josha_num</th>\n",
       "      <th>lines</th>\n",
       "    </tr>\n",
       "  </thead>\n",
       "  <tbody>\n",
       "    <tr>\n",
       "      <th>count</th>\n",
       "      <td>3.160000e+03</td>\n",
       "      <td>3160.000000</td>\n",
       "    </tr>\n",
       "    <tr>\n",
       "      <th>mean</th>\n",
       "      <td>5.510158e+06</td>\n",
       "      <td>1.319304</td>\n",
       "    </tr>\n",
       "    <tr>\n",
       "      <th>std</th>\n",
       "      <td>1.951138e+07</td>\n",
       "      <td>0.921555</td>\n",
       "    </tr>\n",
       "    <tr>\n",
       "      <th>min</th>\n",
       "      <td>2.712000e+03</td>\n",
       "      <td>1.000000</td>\n",
       "    </tr>\n",
       "    <tr>\n",
       "      <th>25%</th>\n",
       "      <td>1.011673e+06</td>\n",
       "      <td>1.000000</td>\n",
       "    </tr>\n",
       "    <tr>\n",
       "      <th>50%</th>\n",
       "      <td>2.105047e+06</td>\n",
       "      <td>1.000000</td>\n",
       "    </tr>\n",
       "    <tr>\n",
       "      <th>75%</th>\n",
       "      <td>3.702974e+06</td>\n",
       "      <td>1.000000</td>\n",
       "    </tr>\n",
       "    <tr>\n",
       "      <th>max</th>\n",
       "      <td>2.222740e+08</td>\n",
       "      <td>9.000000</td>\n",
       "    </tr>\n",
       "  </tbody>\n",
       "</table>\n",
       "</div>"
      ],
      "text/plain": [
       "          josha_num        lines\n",
       "count  3.160000e+03  3160.000000\n",
       "mean   5.510158e+06     1.319304\n",
       "std    1.951138e+07     0.921555\n",
       "min    2.712000e+03     1.000000\n",
       "25%    1.011673e+06     1.000000\n",
       "50%    2.105047e+06     1.000000\n",
       "75%    3.702974e+06     1.000000\n",
       "max    2.222740e+08     9.000000"
      ]
     },
     "execution_count": 9,
     "metadata": {},
     "output_type": "execute_result"
    }
   ],
   "source": [
    "datas.describe()"
   ]
  },
  {
   "cell_type": "code",
   "execution_count": 10,
   "metadata": {},
   "outputs": [
    {
     "data": {
      "text/plain": [
       "array([[1.        , 0.85435272],\n",
       "       [0.85435272, 1.        ]])"
      ]
     },
     "execution_count": 10,
     "metadata": {},
     "output_type": "execute_result"
    }
   ],
   "source": [
    "#相関係数\n",
    "np.corrcoef(datas['lines'], datas['josha_num'])"
   ]
  },
  {
   "cell_type": "code",
   "execution_count": 11,
   "metadata": {},
   "outputs": [],
   "source": [
    "#np.corrcoef(datas['terminal'], datas['josha_num'])"
   ]
  },
  {
   "cell_type": "code",
   "execution_count": 12,
   "metadata": {},
   "outputs": [],
   "source": [
    "X=datas.lines.values\n",
    "# X = np.vstack(datas.sum().lines)\n",
    "# X = np.array([[value, 1] for value in X])"
   ]
  },
  {
   "cell_type": "code",
   "execution_count": 13,
   "metadata": {},
   "outputs": [],
   "source": [
    "#Xと同じ長さの列を作成して、1埋めする\n",
    "A = np.vstack([X, np.ones(len(X))]).T"
   ]
  },
  {
   "cell_type": "code",
   "execution_count": 14,
   "metadata": {
    "scrolled": true
   },
   "outputs": [],
   "source": [
    "Y = datas.josha_num.values\n",
    "#Y=np.c_[Y]"
   ]
  },
  {
   "cell_type": "code",
   "execution_count": null,
   "metadata": {},
   "outputs": [],
   "source": []
  },
  {
   "cell_type": "code",
   "execution_count": 15,
   "metadata": {
    "scrolled": true
   },
   "outputs": [
    {
     "name": "stdout",
     "output_type": "stream",
     "text": [
      "18088559.302316356 -18354146.480176233\n"
     ]
    }
   ],
   "source": [
    "#傾きa, 切片bを求める\n",
    "\n",
    "a,b = np.linalg.lstsq(A,Y,rcond=None)[0]\n",
    "print(a,b)"
   ]
  },
  {
   "cell_type": "code",
   "execution_count": null,
   "metadata": {},
   "outputs": [],
   "source": []
  },
  {
   "cell_type": "code",
   "execution_count": 16,
   "metadata": {},
   "outputs": [
    {
     "data": {
      "text/plain": [
       "[<matplotlib.lines.Line2D at 0x1228f6f28>]"
      ]
     },
     "execution_count": 16,
     "metadata": {},
     "output_type": "execute_result"
    },
    {
     "data": {
      "image/png": "[encoded data removed]",
      "text/plain": [
       "<Figure size 432x288 with 1 Axes>"
      ]
     },
     "metadata": {
      "needs_background": "light"
     },
     "output_type": "display_data"
    }
   ],
   "source": [
    "X2 = np.arange(0, 9, 0.01)\n",
    "\n",
    "#推定Yのplot\n",
    "plt.plot(X2, a*X2 + b)\n",
    "\n",
    "#横軸 駅数、縦軸　年間乗車数\n",
    "plt.plot(X,Y,'ro')"
   ]
  },
  {
   "cell_type": "code",
   "execution_count": 17,
   "metadata": {},
   "outputs": [
    {
     "data": {
      "text/plain": [
       "3.248031395400902e+17"
      ]
     },
     "execution_count": 17,
     "metadata": {},
     "output_type": "execute_result"
    }
   ],
   "source": [
    "#決定係数を手計算する\n",
    "\n",
    "#残差計算\n",
    "child = ((datas['josha_num'] - (datas['lines']*a + b))**2).sum()\n",
    "child"
   ]
  },
  {
   "cell_type": "code",
   "execution_count": 18,
   "metadata": {},
   "outputs": [
    {
     "data": {
      "text/plain": [
       "1.2026118598902098e+18"
      ]
     },
     "execution_count": 18,
     "metadata": {},
     "output_type": "execute_result"
    }
   ],
   "source": [
    "#分母の計算\n",
    "mother = ((datas['josha_num'] - datas['josha_num'].mean())**2).sum()\n",
    "mother"
   ]
  },
  {
   "cell_type": "code",
   "execution_count": 19,
   "metadata": {},
   "outputs": [
    {
     "data": {
      "text/plain": [
       "0.7299185627774014"
      ]
     },
     "execution_count": 19,
     "metadata": {},
     "output_type": "execute_result"
    }
   ],
   "source": [
    "#決定係数\n",
    "R = 1 - child / mother\n",
    "R"
   ]
  },
  {
   "cell_type": "code",
   "execution_count": null,
   "metadata": {},
   "outputs": [],
   "source": []
  },
  {
   "cell_type": "code",
   "execution_count": null,
   "metadata": {},
   "outputs": [],
   "source": []
  }
 ],
 "metadata": {
  "kernelspec": {
   "display_name": "Python 3",
   "language": "python",
   "name": "python3"
  },
  "language_info": {
   "codemirror_mode": {
    "name": "ipython",
    "version": 3
   },
   "file_extension": ".py",
   "mimetype": "text/x-python",
   "name": "python",
   "nbconvert_exporter": "python",
   "pygments_lexer": "ipython3",
   "version": "3.7.0"
  }
 },
 "nbformat": 4,
 "nbformat_minor": 2
}
